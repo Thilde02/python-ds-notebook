{
 "cells": [
  {
   "cell_type": "markdown",
   "id": "fe93018d",
   "metadata": {},
   "source": [
    " Tiffany Hildebrand\n"
   ]
  },
  {
   "cell_type": "code",
   "execution_count": 1,
   "id": "b7273a57",
   "metadata": {},
   "outputs": [
    {
     "name": "stdout",
     "output_type": "stream",
     "text": [
      "*      *\n",
      "**    **\n",
      "***  ***\n",
      "********\n"
     ]
    }
   ],
   "source": [
    "for i in range(1, 5):\n",
    "    stars = \"*\" * i\n",
    "    spaces = \" \" * (8 - 2 * i)\n",
    "    print(stars + spaces + stars)\n"
   ]
  }
 ],
 "metadata": {
  "kernelspec": {
   "display_name": "Python 3",
   "language": "python",
   "name": "python3"
  },
  "language_info": {
   "codemirror_mode": {
    "name": "ipython",
    "version": 3
   },
   "file_extension": ".py",
   "mimetype": "text/x-python",
   "name": "python",
   "nbconvert_exporter": "python",
   "pygments_lexer": "ipython3",
   "version": "3.13.0"
  }
 },
 "nbformat": 4,
 "nbformat_minor": 5
}
